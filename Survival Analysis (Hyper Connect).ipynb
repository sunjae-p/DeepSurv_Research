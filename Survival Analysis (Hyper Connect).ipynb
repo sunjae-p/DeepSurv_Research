{
 "cells": [
  {
   "cell_type": "markdown",
   "id": "4c7221f2",
   "metadata": {},
   "source": [
    "https://hyperconnect.github.io/2019/07/16/survival-analysis-part1.html"
   ]
  },
  {
   "cell_type": "code",
   "execution_count": 2,
   "id": "eb149b74",
   "metadata": {},
   "outputs": [],
   "source": [
    "import pandas as pd\n",
    "data = pd.DataFrame(\n",
    "    {\n",
    "        'time': [1, 4, 7, 12, 14, 20, 26, 40, 45],\n",
    "        'event': [True, True, True, False, True, False, True, False, False]\n",
    "    },\n",
    "    index = ['Alice', 'Bob', 'Charlie', 'Dan', 'Eve', 'Frank', 'Grace', 'Heidi', 'Ivan']\n",
    ")"
   ]
  },
  {
   "cell_type": "code",
   "execution_count": 3,
   "id": "361b0ade",
   "metadata": {},
   "outputs": [
    {
     "name": "stdout",
     "output_type": "stream",
     "text": [
      "         time  event\n",
      "Alice       1   True\n",
      "Bob         4   True\n",
      "Charlie     7   True\n",
      "Dan        12  False\n",
      "Eve        14   True\n",
      "Frank      20  False\n",
      "Grace      26   True\n",
      "Heidi      40  False\n",
      "Ivan       45  False\n"
     ]
    }
   ],
   "source": [
    "print(data)"
   ]
  },
  {
   "cell_type": "markdown",
   "id": "48e1470b",
   "metadata": {},
   "source": [
    "Survival function 추정"
   ]
  },
  {
   "cell_type": "code",
   "execution_count": 4,
   "id": "c52ed95a",
   "metadata": {},
   "outputs": [
    {
     "name": "stdout",
     "output_type": "stream",
     "text": [
      "Requirement already satisfied: lifelines in c:\\users\\tobes\\anaconda3\\lib\\site-packages (0.26.0)\n",
      "Requirement already satisfied: autograd-gamma>=0.3 in c:\\users\\tobes\\anaconda3\\lib\\site-packages (from lifelines) (0.5.0)\n",
      "Requirement already satisfied: numpy>=1.14.0 in c:\\users\\tobes\\anaconda3\\lib\\site-packages (from lifelines) (1.20.1)\n",
      "Requirement already satisfied: pandas>=0.23.0 in c:\\users\\tobes\\anaconda3\\lib\\site-packages (from lifelines) (1.2.4)\n",
      "Requirement already satisfied: formulaic<0.3,>=0.2.2 in c:\\users\\tobes\\anaconda3\\lib\\site-packages (from lifelines) (0.2.3)\n",
      "Requirement already satisfied: autograd>=1.3 in c:\\users\\tobes\\anaconda3\\lib\\site-packages (from lifelines) (1.3)\n",
      "Requirement already satisfied: scipy>=1.2.0 in c:\\users\\tobes\\anaconda3\\lib\\site-packages (from lifelines) (1.6.2)\n",
      "Requirement already satisfied: matplotlib>=3.0 in c:\\users\\tobes\\anaconda3\\lib\\site-packages (from lifelines) (3.3.4)\n",
      "Requirement already satisfied: future>=0.15.2 in c:\\users\\tobes\\anaconda3\\lib\\site-packages (from autograd>=1.3->lifelines) (0.18.2)\n",
      "Requirement already satisfied: interface-meta>=1.2 in c:\\users\\tobes\\anaconda3\\lib\\site-packages (from formulaic<0.3,>=0.2.2->lifelines) (1.2.3)\n",
      "Requirement already satisfied: wrapt in c:\\users\\tobes\\anaconda3\\lib\\site-packages (from formulaic<0.3,>=0.2.2->lifelines) (1.12.1)\n",
      "Requirement already satisfied: astor in c:\\users\\tobes\\anaconda3\\lib\\site-packages (from formulaic<0.3,>=0.2.2->lifelines) (0.8.1)\n",
      "Requirement already satisfied: pillow>=6.2.0 in c:\\users\\tobes\\anaconda3\\lib\\site-packages (from matplotlib>=3.0->lifelines) (8.2.0)\n",
      "Requirement already satisfied: python-dateutil>=2.1 in c:\\users\\tobes\\anaconda3\\lib\\site-packages (from matplotlib>=3.0->lifelines) (2.8.1)\n",
      "Requirement already satisfied: pyparsing!=2.0.4,!=2.1.2,!=2.1.6,>=2.0.3 in c:\\users\\tobes\\anaconda3\\lib\\site-packages (from matplotlib>=3.0->lifelines) (2.4.7)\n",
      "Requirement already satisfied: cycler>=0.10 in c:\\users\\tobes\\anaconda3\\lib\\site-packages (from matplotlib>=3.0->lifelines) (0.10.0)\n",
      "Requirement already satisfied: kiwisolver>=1.0.1 in c:\\users\\tobes\\anaconda3\\lib\\site-packages (from matplotlib>=3.0->lifelines) (1.3.1)\n",
      "Requirement already satisfied: six in c:\\users\\tobes\\anaconda3\\lib\\site-packages (from cycler>=0.10->matplotlib>=3.0->lifelines) (1.15.0)\n",
      "Requirement already satisfied: pytz>=2017.3 in c:\\users\\tobes\\anaconda3\\lib\\site-packages (from pandas>=0.23.0->lifelines) (2021.1)\n",
      "Note: you may need to restart the kernel to use updated packages.\n"
     ]
    }
   ],
   "source": [
    "pip install lifelines"
   ]
  },
  {
   "cell_type": "code",
   "execution_count": 5,
   "id": "a5bfe798",
   "metadata": {},
   "outputs": [
    {
     "data": {
      "text/plain": [
       "<AxesSubplot:xlabel='time (days)', ylabel='survival function, $\\\\hat{S}(t)$'>"
      ]
     },
     "execution_count": 5,
     "metadata": {},
     "output_type": "execute_result"
    },
    {
     "data": {
      "image/png": "[encoded data removed]",
      "text/plain": [
       "<Figure size 432x288 with 1 Axes>"
      ]
     },
     "metadata": {
      "needs_background": "light"
     },
     "output_type": "display_data"
    }
   ],
   "source": [
    "from lifelines import KaplanMeierFitter\n",
    "\n",
    "kmf = KaplanMeierFitter()\n",
    "kmf.fit(data[\"time\"], data[\"event\"])\n",
    "\n",
    "plot = kmf.plot_survival_function()\n",
    "plot.set_xlabel('time (days)')\n",
    "plot.set_ylabel('survival function, $\\hat{S}(t)$')\n",
    "plot"
   ]
  },
  {
   "cell_type": "markdown",
   "id": "45915bee",
   "metadata": {},
   "source": [
    "Cumulative hazard function 추정"
   ]
  },
  {
   "cell_type": "code",
   "execution_count": 6,
   "id": "49b4ce01",
   "metadata": {},
   "outputs": [
    {
     "data": {
      "text/plain": [
       "<AxesSubplot:xlabel='time (days)', ylabel='cumulative hazard function, $\\\\hat{Λ}(t)$'>"
      ]
     },
     "execution_count": 6,
     "metadata": {},
     "output_type": "execute_result"
    },
    {
     "data": {
      "image/png": "[encoded data removed]",
      "text/plain": [
       "<Figure size 432x288 with 1 Axes>"
      ]
     },
     "metadata": {
      "needs_background": "light"
     },
     "output_type": "display_data"
    }
   ],
   "source": [
    "from lifelines import NelsonAalenFitter\n",
    "naf = NelsonAalenFitter()\n",
    "naf.fit(data[\"time\"], data[\"event\"])\n",
    "\n",
    "plot = naf.plot_cumulative_hazard()\n",
    "plot.set_xlabel('time (days)')\n",
    "plot.set_ylabel('cumulative hazard function, $\\hat{Λ}(t)$')\n",
    "plot"
   ]
  },
  {
   "cell_type": "markdown",
   "id": "55b1f392",
   "metadata": {},
   "source": [
    "# 이탈방지 평가"
   ]
  },
  {
   "cell_type": "code",
   "execution_count": 8,
   "id": "dcf23537",
   "metadata": {},
   "outputs": [],
   "source": [
    "data_A = pd.DataFrame(\n",
    "    {\n",
    "        'time': [2, 4, 9, 12, 19, 23, 26, 41, 48],\n",
    "        'event': [True, True, False, False, False, True, True, False, False]\n",
    "    },\n",
    "    index = ['Alice_A', 'Bob_A', 'Charlie_A', 'Dan_A', 'Eve_A', 'Frank_A', 'Grace_A', 'Heidi_A', 'Ivan_A']\n",
    ")\n",
    "\n",
    "data_B = pd.DataFrame(\n",
    "    {\n",
    "        'time': [1, 4, 7, 12, 14, 20, 26, 40, 45],\n",
    "        'event': [True, True, True, False, True, False, True, False, False]\n",
    "    },\n",
    "    index = ['Alice_B', 'Bob_B', 'Charlie_B', 'Dan_B', 'Eve_B', 'Frank_B', 'Grace_B', 'Heidi_B', 'Ivan_B']\n",
    ")"
   ]
  },
  {
   "cell_type": "code",
   "execution_count": 9,
   "id": "5fa78576",
   "metadata": {},
   "outputs": [
    {
     "name": "stdout",
     "output_type": "stream",
     "text": [
      "           time  event\n",
      "Alice_A       2   True\n",
      "Bob_A         4   True\n",
      "Charlie_A     9  False\n",
      "Dan_A        12  False\n",
      "Eve_A        19  False\n",
      "Frank_A      23   True\n",
      "Grace_A      26   True\n",
      "Heidi_A      41  False\n",
      "Ivan_A       48  False\n",
      "           time  event\n",
      "Alice_B       1   True\n",
      "Bob_B         4   True\n",
      "Charlie_B     7   True\n",
      "Dan_B        12  False\n",
      "Eve_B        14   True\n",
      "Frank_B      20  False\n",
      "Grace_B      26   True\n",
      "Heidi_B      40  False\n",
      "Ivan_B       45  False\n"
     ]
    }
   ],
   "source": [
    "print(data_A)\n",
    "print(data_B)"
   ]
  },
  {
   "cell_type": "markdown",
   "id": "d79b145d",
   "metadata": {},
   "source": [
    "효과분석"
   ]
  },
  {
   "cell_type": "code",
   "execution_count": 10,
   "id": "c961ecd9",
   "metadata": {},
   "outputs": [
    {
     "data": {
      "text/plain": [
       "<AxesSubplot:xlabel='time (days)', ylabel='cumulative hazard function, $\\\\hat{Λ}(t)$'>"
      ]
     },
     "execution_count": 10,
     "metadata": {},
     "output_type": "execute_result"
    },
    {
     "data": {
      "image/png": "[encoded data removed]",
      "text/plain": [
       "<Figure size 432x288 with 1 Axes>"
      ]
     },
     "metadata": {
      "needs_background": "light"
     },
     "output_type": "display_data"
    }
   ],
   "source": [
    "kmf = KaplanMeierFitter()\n",
    "kmf.fit(data_A[\"time\"], data_A[\"event\"], label=\"experiment\")\n",
    "ax_kmf = kmf.plot()\n",
    "kmf.fit(data_B[\"time\"], data_B[\"event\"], label=\"control\")\n",
    "ax_kmf = kmf.plot(ax=ax_kmf)\n",
    "\n",
    "ax_kmf.set_xlabel('time (days)')\n",
    "ax_kmf.set_ylabel('survival function, $\\hat{S}(t)$')\n",
    "ax_kmf\n",
    "\n",
    "naf = NelsonAalenFitter()\n",
    "naf.fit(data_A[\"time\"], data_A[\"event\"], label=\"experiment\")\n",
    "ax_naf = naf.plot()\n",
    "naf.fit(data_B[\"time\"], data_B[\"event\"], label=\"control\")\n",
    "ax_naf = naf.plot(ax=ax_naf)\n",
    "\n",
    "ax_naf.set_xlabel('time (days)')\n",
    "ax_naf.set_ylabel('cumulative hazard function, $\\hat{Λ}(t)$')\n",
    "ax_naf"
   ]
  },
  {
   "cell_type": "code",
   "execution_count": 11,
   "id": "19108a44",
   "metadata": {},
   "outputs": [
    {
     "data": {
      "text/plain": [
       "<AxesSubplot:xlabel='time (days)', ylabel='survival function, $\\\\hat{S}(t)$'>"
      ]
     },
     "execution_count": 11,
     "metadata": {},
     "output_type": "execute_result"
    },
    {
     "data": {
      "image/png": "[encoded data removed]",
      "text/plain": [
       "<Figure size 432x288 with 1 Axes>"
      ]
     },
     "metadata": {
      "needs_background": "light"
     },
     "output_type": "display_data"
    }
   ],
   "source": [
    "kmf = KaplanMeierFitter()\n",
    "kmf.fit(data_A[\"time\"], data_A[\"event\"], label=\"experiment\")\n",
    "ax_kmf = kmf.plot()\n",
    "kmf.fit(data_B[\"time\"], data_B[\"event\"], label=\"control\")\n",
    "ax_kmf = kmf.plot(ax=ax_kmf)\n",
    "\n",
    "ax_kmf.set_xlabel('time (days)')\n",
    "ax_kmf.set_ylabel('survival function, $\\hat{S}(t)$')\n",
    "ax_kmf"
   ]
  },
  {
   "cell_type": "code",
   "execution_count": 12,
   "id": "af5d0c9d",
   "metadata": {},
   "outputs": [
    {
     "data": {
      "text/plain": [
       "<AxesSubplot:xlabel='time (days)', ylabel='cumulative hazard function, $\\\\hat{Λ}(t)$'>"
      ]
     },
     "execution_count": 12,
     "metadata": {},
     "output_type": "execute_result"
    },
    {
     "data": {
      "image/png": "[encoded data removed]",
      "text/plain": [
       "<Figure size 432x288 with 1 Axes>"
      ]
     },
     "metadata": {
      "needs_background": "light"
     },
     "output_type": "display_data"
    }
   ],
   "source": [
    "naf = NelsonAalenFitter()\n",
    "naf.fit(data_A[\"time\"], data_A[\"event\"], label=\"experiment\")\n",
    "ax_naf = naf.plot()\n",
    "naf.fit(data_B[\"time\"], data_B[\"event\"], label=\"control\")\n",
    "ax_naf = naf.plot(ax=ax_naf)\n",
    "\n",
    "ax_naf.set_xlabel('time (days)')\n",
    "ax_naf.set_ylabel('cumulative hazard function, $\\hat{Λ}(t)$')\n",
    "ax_naf"
   ]
  },
  {
   "cell_type": "markdown",
   "id": "ac2941c4",
   "metadata": {},
   "source": [
    "유의성 검증"
   ]
  },
  {
   "cell_type": "code",
   "execution_count": 13,
   "id": "e83e54f0",
   "metadata": {},
   "outputs": [
    {
     "data": {
      "text/plain": [
       "0.6791912509835747"
      ]
     },
     "execution_count": 13,
     "metadata": {},
     "output_type": "execute_result"
    }
   ],
   "source": [
    "from lifelines.statistics import logrank_test\n",
    "logrank_test(data_A[\"time\"], data_B[\"time\"], data_A[\"event\"], data_B[\"event\"]).p_value"
   ]
  },
  {
   "cell_type": "markdown",
   "id": "93f1da49",
   "metadata": {},
   "source": [
    "https://hyperconnect.github.io/2019/08/22/survival-analysis-part2.html"
   ]
  },
  {
   "cell_type": "code",
   "execution_count": 14,
   "id": "446a9fd9",
   "metadata": {},
   "outputs": [],
   "source": [
    "import numpy as np\n",
    "import pandas as pd\n",
    "\n",
    "def generate_features(num_samples):\n",
    "    genders = np.random.randint(0, 2, num_samples)\n",
    "    ages = np.random.gamma(15, 1.6, num_samples).round()\n",
    "    nums_friends = np.random.gamma(3, 10, num_samples).round()\n",
    "    nums_liked = np.random.gamma(5, 30, num_samples).round()\n",
    "    nums_calls = np.multiply(nums_friends, np.random.normal(15, 2, num_samples).clip(1)).round()\n",
    "    \n",
    "    return pd.DataFrame({\n",
    "        'gender': genders,\n",
    "        'age': ages,\n",
    "        'num_friends': nums_friends,\n",
    "        'num_liked': nums_liked,\n",
    "        'num_calls': nums_calls\n",
    "    })\n",
    "\n",
    "def get_normal_prob(mean, stdev):\n",
    "    return np.clip(np.random.normal(mean, stdev), 0.1, 0.99)\n",
    "\n",
    "def get_death_prob(t, features):\n",
    "    zipped = pd.DataFrame({\n",
    "        'gender': features['gender'].apply(\n",
    "            lambda x:\n",
    "                get_normal_prob(0.9, 0.01) if x == 0\n",
    "                else get_normal_prob(0.85, 0.01)\n",
    "        ),\n",
    "        'age' : features['age'].apply(\n",
    "            lambda x: ((0 <= x < 10 and get_normal_prob(0.7, 0.02)) or\n",
    "                       (10 <= x < 20 and get_normal_prob(0.85, 0.03)) or\n",
    "                       (20 <= x < 30 and get_normal_prob(0.9, 0.05)) or\n",
    "                       (30 <= x < 40 and get_normal_prob(0.75, 0.05)) or\n",
    "                       (40 <= x < 50 and get_normal_prob(0.7, 0.05)) or            \n",
    "                       get_normal_prob(0.2, 0.05)) - np.random.normal(0.02 * np.log(t), 0.005)\n",
    "        ),\n",
    "        'num_friends': features['num_friends'].apply(\n",
    "            lambda x: np.clip(np.log(max(1, x)) * 0.2, 0.1, 0.99)\n",
    "        ),\n",
    "        'num_liked': features['num_liked'].apply(\n",
    "            lambda x: np.clip(np.log(max(1, x)) * (1/6), 0.1, 0.99)\n",
    "        ),\n",
    "        'num_calls': features['num_calls'].apply(\n",
    "            lambda x: np.clip(np.log(max(1, x)) * (1/8) + np.random.normal(0.03 * np.log(t), 0.005), 0.1, 0.99)\n",
    "        )\n",
    "    })\n",
    "    \n",
    "    return zipped['gender'] * 0.3 + zipped['age'] * 0.35 + zipped['num_friends'] * 0.05 + zipped['num_liked'] * 0.05 + zipped['num_calls'] * 0.25\n",
    "\n",
    "def generate_dataset(num_samples, death_threshold, max_time):\n",
    "    data = generate_features(num_samples)\n",
    "    data['event'] = False\n",
    "    data['time'] = 1\n",
    "    time = 1\n",
    "    \n",
    "    while time < max_time:\n",
    "        time = time + 1\n",
    "        prob = get_death_prob(time, data)\n",
    "        data['time'] = data['time'] + ~(data['event'] | (prob < death_threshold)) * 1\n",
    "        data['event'] = data['event'] | (prob < death_threshold)\n",
    "\n",
    "    return data"
   ]
  },
  {
   "cell_type": "code",
   "execution_count": null,
   "id": "0352fb56",
   "metadata": {},
   "outputs": [],
   "source": []
  }
 ],
 "metadata": {
  "kernelspec": {
   "display_name": "Python 3",
   "language": "python",
   "name": "python3"
  },
  "language_info": {
   "codemirror_mode": {
    "name": "ipython",
    "version": 3
   },
   "file_extension": ".py",
   "mimetype": "text/x-python",
   "name": "python",
   "nbconvert_exporter": "python",
   "pygments_lexer": "ipython3",
   "version": "3.8.8"
  }
 },
 "nbformat": 4,
 "nbformat_minor": 5
}
